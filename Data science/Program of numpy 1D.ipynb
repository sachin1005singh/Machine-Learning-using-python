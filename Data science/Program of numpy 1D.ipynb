{
 "cells": [
  {
   "cell_type": "code",
   "execution_count": 1,
   "metadata": {},
   "outputs": [
    {
     "name": "stdout",
     "output_type": "stream",
     "text": [
      "[10 20 30 40 50]\n"
     ]
    }
   ],
   "source": [
    "import numpy as np\n",
    "arr = np.array([10,20,30,40,50])\n",
    "print(arr)\n"
   ]
  },
  {
   "cell_type": "markdown",
   "metadata": {},
   "source": [
    "# creating array in numpy can be done in several ways.\n",
    "- using array() function\n",
    "- using linspace() function\n",
    "- using logspace() function\n",
    "- using arrange() function\n",
    "- using arrange() function\n",
    "- using zeros() and ones() functions"
   ]
  },
  {
   "cell_type": "code",
   "execution_count": 2,
   "metadata": {},
   "outputs": [
    {
     "name": "stdout",
     "output_type": "stream",
     "text": [
      "a =  [[ 0.  2.]\n",
      " [ 4.  6.]\n",
      " [ 8. 10.]]\n"
     ]
    }
   ],
   "source": [
    "# creating array using linspace\n",
    "from numpy import *\n",
    "a = linspace(0,10,6).reshape(3,2)\n",
    "print('a = ',a)\n",
    "    "
   ]
  },
  {
   "cell_type": "code",
   "execution_count": 3,
   "metadata": {},
   "outputs": [
    {
     "name": "stdout",
     "output_type": "stream",
     "text": [
      "10.0 56.23413251903491 316.22776601683796 1778.2794100389228 10000.0 "
     ]
    }
   ],
   "source": [
    "# creating using logspace\n",
    "a = logspace(1,4,5)\n",
    "a\n",
    "for i in a:\n",
    "    print(i,end=\" \")"
   ]
  },
  {
   "cell_type": "code",
   "execution_count": 4,
   "metadata": {},
   "outputs": [
    {
     "name": "stdout",
     "output_type": "stream",
     "text": [
      "[[ 2  4  6]\n",
      " [ 8 10 12]]\n"
     ]
    }
   ],
   "source": [
    "# creating array using arange()\n",
    "a = arange(2,13,2).reshape(2,3)\n",
    "print(a)"
   ]
  },
  {
   "cell_type": "code",
   "execution_count": 5,
   "metadata": {},
   "outputs": [
    {
     "name": "stdout",
     "output_type": "stream",
     "text": [
      "A :  [[0 0 0]\n",
      " [0 0 0]\n",
      " [0 0 0]]\n",
      "B : [1. 1. 1. 1. 1.]\n"
     ]
    }
   ],
   "source": [
    "\n",
    "# creating array with default value zeros, ones \n",
    "a = zeros((3,3),int)\n",
    "b = ones(5)\n",
    "print(\"A : \",a)\n",
    "print(\"B :\",b)"
   ]
  },
  {
   "cell_type": "code",
   "execution_count": 6,
   "metadata": {},
   "outputs": [
    {
     "name": "stdout",
     "output_type": "stream",
     "text": [
      "oringinal array       : [10 20 30 40 50]\n",
      "After adding 5        : [15 25 35 45 55]\n",
      "After subtracting 5   : [ 5 15 25 35 45]\n",
      "After multiply with 5 :  [ 50 100 150 200 250]\n",
      "After dividing with 5 : [ 2.  4.  6.  8. 10.]\n",
      "After modulus witht 5 : [0 0 0 0 0]\n",
      "Expression values : [ 215  615 1215 2015 3015]\n",
      "Sin value : [-0.54402111  0.91294525 -0.98803162  0.74511316 -0.26237485]\n",
      "cos value :  [-0.83907153  0.40808206  0.15425145 -0.66693806  0.96496603]\n",
      "tan values :  [ 0.64836083  2.23716094 -6.4053312  -1.11721493 -0.27190061]\n",
      "Biggest element : 50\n",
      "smallest element : 10\n",
      "sum pf all element : 150\n",
      "Average of all elements : 30.0\n"
     ]
    }
   ],
   "source": [
    "#Mathematical operations on array\n",
    "# import all from numpy module\n",
    "from numpy import *\n",
    "arr = array([10,20,30,40,50])\n",
    "print(\"oringinal array       :\",arr)\n",
    "\n",
    "# do mathematical operation\n",
    "print(\"After adding 5        :\",arr+5)\n",
    "print(\"After subtracting 5   :\",arr-5)\n",
    "print(\"After multiply with 5 : \",arr*5)\n",
    "print(\"After dividing with 5 :\",arr/5)\n",
    "print(\"After modulus witht 5 :\",arr%5)\n",
    "\n",
    "print(\"Expression values :\",(arr+5)**2-10)\n",
    "\n",
    "# do some  math function\n",
    "print(\"Sin value :\", sin(arr))\n",
    "print(\"cos value : \",cos(arr))\n",
    "print(\"tan values : \",tan(arr))\n",
    "print(\"Biggest element :\",max(arr))\n",
    "print(\"smallest element :\",min(arr))\n",
    "print(\"sum pf all element :\",sum(arr))\n",
    "print(\"Average of all elements :\",mean(arr))\n",
    "\n"
   ]
  },
  {
   "cell_type": "markdown",
   "metadata": {},
   "source": [
    "## usng all() and any() function2\n",
    "- all() function can be used to determine whether all the elements in the array and True\n",
    "- any() function can be used to determine if any one element of the array is True."
   ]
  },
  {
   "cell_type": "code",
   "execution_count": 7,
   "metadata": {},
   "outputs": [
    {
     "name": "stdout",
     "output_type": "stream",
     "text": [
      "Result of a>b [ True False False False  True False]\n",
      "check if any one element is true : True\n",
      "check if all elements are true : False\n"
     ]
    }
   ],
   "source": [
    "# using any() an all()\n",
    "\n",
    "a = array([1,2,3,0,4,0])\n",
    "b = array([0,5,6,7,1,2])\n",
    "\n",
    "c = a>b\n",
    "print(\"Result of a>b\",c)\n",
    "\n",
    "print(\"check if any one element is true :\",any(c))\n",
    "print(\"check if all elements are true :\",all(c))\n"
   ]
  },
  {
   "cell_type": "markdown",
   "metadata": {},
   "source": [
    "# \n",
    "## Attributes of an array\n",
    "- ndim attribute\n",
    "- shape attribute\n",
    "- size attribute\n",
    "- itemsize attribute\n",
    "- dtype attribute\n",
    "- nbyte attribute\n",
    "- reshape() method\n",
    "- flaten() method\n"
   ]
  },
  {
   "cell_type": "markdown",
   "metadata": {},
   "source": [
    "## Attributes of an array\n",
    "- ndim attribute\n",
    "- shape attribute\n",
    "- size attribute\n",
    "- itemsize attribute\n",
    "- dtype attribute\n",
    "- nbyte attribute\n",
    "- reshape() method\n",
    "- flaten() method\n"
   ]
  },
  {
   "cell_type": "code",
   "execution_count": 8,
   "metadata": {},
   "outputs": [
    {
     "name": "stdout",
     "output_type": "stream",
     "text": [
      "use of ndim : 1\n",
      "use od ndim : 2\n",
      "use of shape : (2, 3)\n",
      "use of size : 8\n",
      "use of itemsize : 4\n",
      "use of dtype : int32\n",
      "use of nbytes : 32\n",
      "use of reshape : [[10 20]\n",
      " [30 40]\n",
      " [50 60]\n",
      " [68 80]]\n",
      "use of flatten : [10 20 30 40 50 60 68 80]\n"
     ]
    }
   ],
   "source": [
    "from numpy import *\n",
    "arr = array([10,20,30,40,50,60,68,80])\n",
    "arr2 = array([[12,34,56],[23,56,58]])\n",
    "\n",
    "print(\"use of ndim :\",arr.ndim)\n",
    "print(\"use od ndim :\",arr2.ndim)\n",
    "\n",
    "print(\"use of shape :\",arr2.shape)\n",
    "print(\"use of size :\",arr.size)\n",
    "print(\"use of itemsize :\", arr.itemsize)\n",
    "print(\"use of dtype :\",arr.dtype)\n",
    "print(\"use of nbytes :\",arr.nbytes)\n",
    "print(\"use of reshape :\",arr.reshape(4,2))\n",
    "\n",
    "print(\"use of flatten :\",arr.flatten())"
   ]
  },
  {
   "cell_type": "code",
   "execution_count": null,
   "metadata": {},
   "outputs": [],
   "source": []
  }
 ],
 "metadata": {
  "kernelspec": {
   "display_name": "Python 3",
   "language": "python",
   "name": "python3"
  },
  "language_info": {
   "codemirror_mode": {
    "name": "ipython",
    "version": 3
   },
   "file_extension": ".py",
   "mimetype": "text/x-python",
   "name": "python",
   "nbconvert_exporter": "python",
   "pygments_lexer": "ipython3",
   "version": "3.7.1"
  }
 },
 "nbformat": 4,
 "nbformat_minor": 2
}
