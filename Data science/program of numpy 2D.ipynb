{
 "cells": [
  {
   "cell_type": "markdown",
   "metadata": {},
   "source": [
    "# We can create multi-dimensional arrays in the following ways:\n",
    "- Using array() funtion\n",
    "- Using ones() and zereos() functions\n",
    "- Using eye() function\n",
    "- Using reshape() function"
   ]
  },
  {
   "cell_type": "code",
   "execution_count": 1,
   "metadata": {},
   "outputs": [
    {
     "name": "stdout",
     "output_type": "stream",
     "text": [
      "[1, 2, 3]\n",
      "[4, 5, 6]\n",
      "[7, 8, 9]\n",
      "1 2 3 4 5 6 7 8 9 "
     ]
    }
   ],
   "source": [
    "from numpy import *\n",
    "\n",
    "a = [[1,2,3],[4,5,6],[7,8,9]]\n",
    "\n",
    "for i in range(len(a)):\n",
    "    print(a[i])\n",
    "\n",
    "for i in range(len(a)):\n",
    "    for j in range(len(a[i])):\n",
    "        print(a[i][j],end=\" \")\n",
    "\n",
    "        "
   ]
  },
  {
   "cell_type": "code",
   "execution_count": 2,
   "metadata": {},
   "outputs": [],
   "source": [
    "a = array([[1,2,3],[4,5,6],[7,8,9]])\n",
    "a = sort(a)"
   ]
  },
  {
   "cell_type": "code",
   "execution_count": 3,
   "metadata": {},
   "outputs": [
    {
     "data": {
      "text/plain": [
       "array([[1, 2, 3],\n",
       "       [4, 5, 6],\n",
       "       [7, 8, 9]])"
      ]
     },
     "execution_count": 3,
     "metadata": {},
     "output_type": "execute_result"
    }
   ],
   "source": [
    "a"
   ]
  },
  {
   "cell_type": "code",
   "execution_count": null,
   "metadata": {},
   "outputs": [
    {
     "name": "stdout",
     "output_type": "stream",
     "text": [
      "Enter rows,cols :2 2\n"
     ]
    }
   ],
   "source": [
    "# python program to accept a matrix from the keyboard and display its transpose matrix\n",
    "\n",
    "from numpy import *\n",
    "\n",
    "r,c = [int(a) for a in input(\"Enter rows,cols :\").split()]\n",
    "\n",
    "str = input(\"Enter matrix elements :\\n\")\n",
    "\n",
    "# converting striung into matrix with size rxc\n",
    "x = reshape(matrix(str),(r,c))\n",
    "print(\"the original matrix : \",c)\n",
    "print(x)\n",
    "\n",
    "print(\"the transpose matrix :\")\n",
    "y = x.transpose()\n",
    "print(y)\n"
   ]
  },
  {
   "cell_type": "code",
   "execution_count": null,
   "metadata": {},
   "outputs": [],
   "source": [
    "# class work\n"
   ]
  }
 ],
 "metadata": {
  "kernelspec": {
   "display_name": "Python 3",
   "language": "python",
   "name": "python3"
  },
  "language_info": {
   "codemirror_mode": {
    "name": "ipython",
    "version": 3
   },
   "file_extension": ".py",
   "mimetype": "text/x-python",
   "name": "python",
   "nbconvert_exporter": "python",
   "pygments_lexer": "ipython3",
   "version": "3.7.1"
  }
 },
 "nbformat": 4,
 "nbformat_minor": 2
}
