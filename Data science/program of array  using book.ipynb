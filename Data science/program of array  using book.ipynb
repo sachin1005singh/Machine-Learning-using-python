{
 "cells": [
  {
   "cell_type": "code",
   "execution_count": 3,
   "metadata": {},
   "outputs": [
    {
     "name": "stdout",
     "output_type": "stream",
     "text": [
      "1\n",
      "2\n",
      "3\n",
      "4\n",
      "5\n"
     ]
    }
   ],
   "source": [
    "# create an array\n",
    "import array\n",
    "a = array.array(\"i\",[1,2,3,4,5])\n",
    "len(a)"
   ]
  },
  {
   "cell_type": "code",
   "execution_count": 9,
   "metadata": {},
   "outputs": [
    {
     "name": "stdout",
     "output_type": "stream",
     "text": [
      "s\n",
      "a\n",
      "c\n",
      "h\n",
      "i\n",
      "n\n"
     ]
    }
   ],
   "source": [
    "#create an array with characters\n",
    "from array import *\n",
    "arr = array(\"u\",[\"s\",\"a\",\"c\",\"h\",\"i\",\"n\"])\n",
    "for i in arr:\n",
    "    print(i)"
   ]
  },
  {
   "cell_type": "code",
   "execution_count": 16,
   "metadata": {},
   "outputs": [
    {
     "name": "stdout",
     "output_type": "stream",
     "text": [
      "array('d', [1.0, 2.0, 3.0, 4.0, 5.0])\n",
      "array('d', [2.0, 4.0, 6.0, 8.0, 10.0])\n"
     ]
    }
   ],
   "source": [
    "# create one array from another array\n",
    "from array import *\n",
    "d = [1,2,3,4,5]\n",
    "arr = array(\"d\",d)\n",
    "# use same codeand multiply each element of arr with 2\n",
    "arr2 = array(arr.typecode,(a*2 for a in arr))\n",
    "print(arr)\n",
    "print(arr2)"
   ]
  },
  {
   "cell_type": "code",
   "execution_count": 24,
   "metadata": {},
   "outputs": [
    {
     "name": "stdout",
     "output_type": "stream",
     "text": [
      "array('i', [20, 30, 40])\n",
      "array('i', [10, 20, 30, 40, 50])\n",
      "array('i', [10, 20, 30, 40])\n",
      "array('i', [20, 30, 40, 50])\n",
      "array('i', [20, 30, 40])\n",
      "array('i', [10, 30, 50])\n"
     ]
    }
   ],
   "source": [
    "# create array y with elements tfrom 1st to 3rd from x\n",
    "x = array(\"i\",[10,20,30,40,50])\n",
    "\n",
    "y = x[1:4]\n",
    "print(y)\n",
    "\n",
    "y = x[0:]\n",
    "print(y)\n",
    "\n",
    "y= x[:4]\n",
    "print(y)\n",
    "\n",
    "y = x[-4:]\n",
    "print(y)\n",
    "\n",
    "# toward right\n",
    "y= x[-4:-1]\n",
    "print(y)\n",
    "\n",
    "y = x[0:7:2]\n",
    "print(y)"
   ]
  },
  {
   "cell_type": "code",
   "execution_count": 23,
   "metadata": {},
   "outputs": [
    {
     "name": "stdout",
     "output_type": "stream",
     "text": [
      "Original array :\n",
      " array('i', [10, 20, 30, 40, 50])\n",
      "\n",
      " After append 30 and 60 to array :\n",
      " array('i', [10, 20, 30, 40, 50, 30, 60])\n",
      "\n",
      "After inserting 27 at 1st position :\n",
      " array('i', [10, 27, 20, 30, 40, 50, 30, 60])\n",
      "\n",
      "After remove 20 from array :\n",
      " array('i', [10, 27, 30, 40, 50, 30, 60])\n",
      "\n",
      "After using pop() :\n",
      " array('i', [10, 27, 30, 40, 50, 30])\n",
      "popped element : 60\n",
      "\n",
      "First occurence of element 30 is at :\n",
      " 2\n",
      "\n",
      "List :\n",
      " [10, 27, 30, 40, 50, 30]\n",
      "Array : \n",
      " array('i', [10, 27, 30, 40, 50, 30])\n"
     ]
    }
   ],
   "source": [
    "# operation on array\n",
    "from array import *\n",
    "\n",
    "arr = array(\"i\",[10,20,30,40,50])\n",
    "print(\"Original array :\\n\",arr)\n",
    "\n",
    "arr.append(30)\n",
    "arr.append(60)\n",
    "print(\"\\n After append 30 and 60 to array :\\n\",arr)\n",
    "\n",
    "arr.insert(1,27)\n",
    "print(\"\\nAfter inserting 27 at 1st position :\\n\",arr)\n",
    "\n",
    "arr.remove(20)\n",
    "print(\"\\nAfter remove 20 from array :\\n\",arr)\n",
    "\n",
    "n=arr.pop()\n",
    "print(\"\\nAfter using pop() :\\n\",arr)\n",
    "print(\"popped element :\",n)\n",
    "\n",
    "n = arr.index(30)\n",
    "print(\"\\nFirst occurence of element 30 is at :\\n\",n)\n",
    "\n",
    "lst = arr.tolist()\n",
    "# converting arrary into lsit\n",
    "print(\"\\nList :\\n\",lst)\n",
    "print(\"Array : \\n\",arr)"
   ]
  },
  {
   "cell_type": "code",
   "execution_count": null,
   "metadata": {},
   "outputs": [],
   "source": []
  }
 ],
 "metadata": {
  "kernelspec": {
   "display_name": "Python 3",
   "language": "python",
   "name": "python3"
  },
  "language_info": {
   "codemirror_mode": {
    "name": "ipython",
    "version": 3
   },
   "file_extension": ".py",
   "mimetype": "text/x-python",
   "name": "python",
   "nbconvert_exporter": "python",
   "pygments_lexer": "ipython3",
   "version": "3.7.1"
  }
 },
 "nbformat": 4,
 "nbformat_minor": 2
}
